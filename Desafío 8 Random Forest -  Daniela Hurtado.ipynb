{
 "cells": [
  {
   "cell_type": "markdown",
   "metadata": {},
   "source": [
    "# Desafío - Random Forest\n",
    "\n",
    "## Daniela Hurtado\n",
    "\n",
    "# Ejercicio 1: Preparación del ambiente de trabajo\n",
    "\n",
    "* Importe las librerías clásicas a utilizar.\n",
    "* Para este ejercicio Random Forest de Regresión\n",
    "* De manera adicional importe las funciones y clases necesarias para generar un desempeño de métricas en problemas de regresión.\n",
    "* Elimine la columna 'Unnamed: 0' cuando cargue los datos."
   ]
  },
  {
   "cell_type": "code",
   "execution_count": 1,
   "metadata": {},
   "outputs": [],
   "source": [
    "import pandas as pd\n",
    "import numpy as np\n",
    "import matplotlib.pyplot as plt\n",
    "import seaborn as sns\n",
    "\n",
    "plt.rcParams['figure.figsize'] = (16, 10)\n",
    "plt.style.use('seaborn')\n",
    "\n",
    "from scipy import stats\n",
    "from sklearn.model_selection import train_test_split\n",
    "from sklearn.ensemble import BaggingRegressor\n"
   ]
  },
  {
   "cell_type": "code",
   "execution_count": 2,
   "metadata": {},
   "outputs": [],
   "source": [
    "# leemos nuestro archivo\n",
    "df = pd.read_csv('ames_housing.csv')"
   ]
  },
  {
   "cell_type": "code",
   "execution_count": 3,
   "metadata": {},
   "outputs": [
    {
     "data": {
      "text/html": [
       "<div>\n",
       "<style scoped>\n",
       "    .dataframe tbody tr th:only-of-type {\n",
       "        vertical-align: middle;\n",
       "    }\n",
       "\n",
       "    .dataframe tbody tr th {\n",
       "        vertical-align: top;\n",
       "    }\n",
       "\n",
       "    .dataframe thead th {\n",
       "        text-align: right;\n",
       "    }\n",
       "</style>\n",
       "<table border=\"1\" class=\"dataframe\">\n",
       "  <thead>\n",
       "    <tr style=\"text-align: right;\">\n",
       "      <th></th>\n",
       "      <th>Unnamed: 0</th>\n",
       "      <th>MS_SubClass</th>\n",
       "      <th>MS_Zoning</th>\n",
       "      <th>Lot_Frontage</th>\n",
       "      <th>Lot_Area</th>\n",
       "      <th>Street</th>\n",
       "      <th>Alley</th>\n",
       "      <th>Lot_Shape</th>\n",
       "      <th>Land_Contour</th>\n",
       "      <th>Utilities</th>\n",
       "      <th>...</th>\n",
       "      <th>Fence</th>\n",
       "      <th>Misc_Feature</th>\n",
       "      <th>Misc_Val</th>\n",
       "      <th>Mo_Sold</th>\n",
       "      <th>Year_Sold</th>\n",
       "      <th>Sale_Type</th>\n",
       "      <th>Sale_Condition</th>\n",
       "      <th>Sale_Price</th>\n",
       "      <th>Longitude</th>\n",
       "      <th>Latitude</th>\n",
       "    </tr>\n",
       "  </thead>\n",
       "  <tbody>\n",
       "    <tr>\n",
       "      <th>2345</th>\n",
       "      <td>2346</td>\n",
       "      <td>Two_Story_1946_and_Newer</td>\n",
       "      <td>Residential_Low_Density</td>\n",
       "      <td>0</td>\n",
       "      <td>18800</td>\n",
       "      <td>Pave</td>\n",
       "      <td>No_Alley_Access</td>\n",
       "      <td>Slightly_Irregular</td>\n",
       "      <td>Lvl</td>\n",
       "      <td>AllPub</td>\n",
       "      <td>...</td>\n",
       "      <td>No_Fence</td>\n",
       "      <td>None</td>\n",
       "      <td>0</td>\n",
       "      <td>7</td>\n",
       "      <td>2006</td>\n",
       "      <td>WD</td>\n",
       "      <td>Normal</td>\n",
       "      <td>190000</td>\n",
       "      <td>-93.631515</td>\n",
       "      <td>42.054956</td>\n",
       "    </tr>\n",
       "  </tbody>\n",
       "</table>\n",
       "<p>1 rows × 82 columns</p>\n",
       "</div>"
      ],
      "text/plain": [
       "      Unnamed: 0               MS_SubClass                MS_Zoning  \\\n",
       "2345        2346  Two_Story_1946_and_Newer  Residential_Low_Density   \n",
       "\n",
       "      Lot_Frontage  Lot_Area Street            Alley           Lot_Shape  \\\n",
       "2345             0     18800   Pave  No_Alley_Access  Slightly_Irregular   \n",
       "\n",
       "     Land_Contour Utilities  ...     Fence Misc_Feature Misc_Val Mo_Sold  \\\n",
       "2345          Lvl    AllPub  ...  No_Fence         None        0       7   \n",
       "\n",
       "     Year_Sold Sale_Type Sale_Condition Sale_Price  Longitude   Latitude  \n",
       "2345      2006       WD          Normal     190000 -93.631515  42.054956  \n",
       "\n",
       "[1 rows x 82 columns]"
      ]
     },
     "execution_count": 3,
     "metadata": {},
     "output_type": "execute_result"
    }
   ],
   "source": [
    "# visualizamos la bbdd\n",
    "df.sample()"
   ]
  },
  {
   "cell_type": "code",
   "execution_count": 4,
   "metadata": {},
   "outputs": [],
   "source": [
    "# borramos Unnamed: 0\n",
    "df = df.drop('Unnamed: 0', axis=1)"
   ]
  },
  {
   "cell_type": "code",
   "execution_count": 5,
   "metadata": {},
   "outputs": [
    {
     "data": {
      "text/html": [
       "<div>\n",
       "<style scoped>\n",
       "    .dataframe tbody tr th:only-of-type {\n",
       "        vertical-align: middle;\n",
       "    }\n",
       "\n",
       "    .dataframe tbody tr th {\n",
       "        vertical-align: top;\n",
       "    }\n",
       "\n",
       "    .dataframe thead th {\n",
       "        text-align: right;\n",
       "    }\n",
       "</style>\n",
       "<table border=\"1\" class=\"dataframe\">\n",
       "  <thead>\n",
       "    <tr style=\"text-align: right;\">\n",
       "      <th></th>\n",
       "      <th>MS_SubClass</th>\n",
       "      <th>MS_Zoning</th>\n",
       "      <th>Lot_Frontage</th>\n",
       "      <th>Lot_Area</th>\n",
       "      <th>Street</th>\n",
       "      <th>Alley</th>\n",
       "      <th>Lot_Shape</th>\n",
       "      <th>Land_Contour</th>\n",
       "      <th>Utilities</th>\n",
       "      <th>Lot_Config</th>\n",
       "      <th>...</th>\n",
       "      <th>Fence</th>\n",
       "      <th>Misc_Feature</th>\n",
       "      <th>Misc_Val</th>\n",
       "      <th>Mo_Sold</th>\n",
       "      <th>Year_Sold</th>\n",
       "      <th>Sale_Type</th>\n",
       "      <th>Sale_Condition</th>\n",
       "      <th>Sale_Price</th>\n",
       "      <th>Longitude</th>\n",
       "      <th>Latitude</th>\n",
       "    </tr>\n",
       "  </thead>\n",
       "  <tbody>\n",
       "    <tr>\n",
       "      <th>1923</th>\n",
       "      <td>One_Story_1946_and_Newer_All_Styles</td>\n",
       "      <td>Residential_Low_Density</td>\n",
       "      <td>70</td>\n",
       "      <td>9100</td>\n",
       "      <td>Pave</td>\n",
       "      <td>No_Alley_Access</td>\n",
       "      <td>Regular</td>\n",
       "      <td>Lvl</td>\n",
       "      <td>AllPub</td>\n",
       "      <td>Inside</td>\n",
       "      <td>...</td>\n",
       "      <td>No_Fence</td>\n",
       "      <td>None</td>\n",
       "      <td>0</td>\n",
       "      <td>6</td>\n",
       "      <td>2007</td>\n",
       "      <td>WD</td>\n",
       "      <td>Normal</td>\n",
       "      <td>120000</td>\n",
       "      <td>-93.611697</td>\n",
       "      <td>42.045669</td>\n",
       "    </tr>\n",
       "  </tbody>\n",
       "</table>\n",
       "<p>1 rows × 81 columns</p>\n",
       "</div>"
      ],
      "text/plain": [
       "                              MS_SubClass                MS_Zoning  \\\n",
       "1923  One_Story_1946_and_Newer_All_Styles  Residential_Low_Density   \n",
       "\n",
       "      Lot_Frontage  Lot_Area Street            Alley Lot_Shape Land_Contour  \\\n",
       "1923            70      9100   Pave  No_Alley_Access   Regular          Lvl   \n",
       "\n",
       "     Utilities Lot_Config  ...     Fence Misc_Feature Misc_Val Mo_Sold  \\\n",
       "1923    AllPub     Inside  ...  No_Fence         None        0       6   \n",
       "\n",
       "     Year_Sold Sale_Type Sale_Condition Sale_Price  Longitude   Latitude  \n",
       "1923      2007       WD          Normal     120000 -93.611697  42.045669  \n",
       "\n",
       "[1 rows x 81 columns]"
      ]
     },
     "execution_count": 5,
     "metadata": {},
     "output_type": "execute_result"
    }
   ],
   "source": [
    "# comprobamos\n",
    "df.sample()"
   ]
  },
  {
   "cell_type": "markdown",
   "metadata": {},
   "source": [
    "# Ejercicio 2: Importación de archivos serializados\n",
    "\n",
    "* Importe su modelo entrenado y sus conjuntos de entrenamiento y validación (y_test) serializados la sesión pasada y evalúe el desempeño del modelo de su compañero con el suyo ¿Cuál es mejor? Si no puede ejecutar el modelo, comente cuáles pueden ser los causantes.\n",
    "* No es necesario que realice diagnósticos gráficos sobre el modelo, sólo reporte sus métricas.\n",
    "* Para importar un archivo serializado, puede ocupar la siguiente línea de código:\n",
    "\n",
    "import pickle\n",
    "\n",
    "read_model = pickle.load(open(\"ignacio-soto-act07.sav\",\"rb\"))"
   ]
  },
  {
   "cell_type": "code",
   "execution_count": 6,
   "metadata": {},
   "outputs": [
    {
     "name": "stderr",
     "output_type": "stream",
     "text": [
      "C:\\Users\\Victor\\Anaconda3\\lib\\site-packages\\sklearn\\base.py:251: UserWarning: Trying to unpickle estimator DecisionTreeRegressor from version 0.20.3 when using version 0.20.1. This might lead to breaking code or invalid results. Use at your own risk.\n",
      "  UserWarning)\n",
      "C:\\Users\\Victor\\Anaconda3\\lib\\site-packages\\sklearn\\base.py:251: UserWarning: Trying to unpickle estimator DecisionTreeRegressor from version 0.20.3 when using version 0.20.1. This might lead to breaking code or invalid results. Use at your own risk.\n",
      "  UserWarning)\n",
      "C:\\Users\\Victor\\Anaconda3\\lib\\site-packages\\sklearn\\base.py:251: UserWarning: Trying to unpickle estimator GridSearchCV from version 0.20.3 when using version 0.20.1. This might lead to breaking code or invalid results. Use at your own risk.\n",
      "  UserWarning)\n"
     ]
    }
   ],
   "source": [
    "import pickle\n",
    "# Importamos los modelos\n",
    "read_model_d = pickle.load(open(\"daniela_hurtado_actividad07.sav\",\"rb\"))\n",
    "read_model_n = pickle.load(open(\"nathacha_escobar_actividad07.sav\", \"rb\"))\n"
   ]
  },
  {
   "cell_type": "code",
   "execution_count": 7,
   "metadata": {},
   "outputs": [],
   "source": [
    "# Conjuntos de entrenamiento y validación propios\n",
    "read_X_training = pickle.load(open(\"daniela_hurtado_actividad07_X_training.sav\",\"rb\"))\n",
    "read_y_training = pickle.load(open(\"daniela_hurtado_actividad07_y_training.sav\",\"rb\"))\n",
    "read_X_testing = pickle.load(open(\"daniela_hurtado_actividad07_X_testing.sav\",\"rb\"))\n",
    "read_y_testing = pickle.load(open(\"daniela_hurtado_actividad07_y_testing.sav\",\"rb\"))"
   ]
  },
  {
   "cell_type": "code",
   "execution_count": 8,
   "metadata": {},
   "outputs": [],
   "source": [
    "# Conjuntos de entrenamiento y validación compañera\n",
    "\n",
    "read_X_training_2 = pickle.load(open(\"nathacha_escobar_actividad07_X_training.sav\",\"rb\"))\n",
    "read_y_training_2 = pickle.load(open(\"nathacha_escobar_actividad07_y_training.sav\",\"rb\"))\n",
    "read_X_testing_2 = pickle.load(open(\"nathacha_escobar_actividad07_X_testing.sav\",\"rb\"))\n",
    "read_y_testing_2 = pickle.load(open(\"nathacha_escobar_actividad07_y_testing.sav\",\"rb\"))"
   ]
  },
  {
   "cell_type": "code",
   "execution_count": 9,
   "metadata": {},
   "outputs": [
    {
     "name": "stdout",
     "output_type": "stream",
     "text": [
      "MSE: 1616057378.2619152\n",
      "MAE: 17998.523076923084\n",
      "R2: 0.7299550329441098\n"
     ]
    }
   ],
   "source": [
    "from sklearn.metrics import mean_squared_error, median_absolute_error, r2_score, mean_absolute_error\n",
    "\n",
    "# Mi modelo con mis metricas\n",
    "print(\"MSE:\", mean_squared_error(read_y_testing, read_model_d.predict(read_X_testing)))\n",
    "print(\"MAE:\", median_absolute_error(read_y_testing, read_model_d.predict(read_X_testing)))\n",
    "print(\"R2:\", r2_score(read_y_testing, read_model_d.predict(read_X_testing)))"
   ]
  },
  {
   "cell_type": "code",
   "execution_count": 10,
   "metadata": {},
   "outputs": [
    {
     "name": "stdout",
     "output_type": "stream",
     "text": [
      "MSE: 1238356835.2676969\n",
      "MAE: 16677.333333333343\n",
      "R2: 0.7618732682550065\n"
     ]
    }
   ],
   "source": [
    "# Modelo compañera con sus métricas\n",
    "print(\"MSE:\", mean_squared_error(read_y_testing_2, read_model_n.predict(read_X_testing_2)))\n",
    "print(\"MAE:\", median_absolute_error(read_y_testing_2, read_model_n.predict(read_X_testing_2)))\n",
    "print(\"R2:\", r2_score(read_y_testing_2, read_model_n.predict(read_X_testing_2)))"
   ]
  },
  {
   "cell_type": "markdown",
   "metadata": {},
   "source": [
    "* La métricas de mi compañera resultan ser mejor"
   ]
  },
  {
   "cell_type": "markdown",
   "metadata": {},
   "source": [
    "# Ejercicio 3: Evaluación Random Forest\n",
    "* En base a los conjuntos de entrenamiento serializados, genere un modelo utilizando sklearn.ensemble.RandomForest sin modificar hiperparámetros, sólo declarando la semilla pseudoaleatoria.\n",
    "* Reporte su desempeño y compárelo con su modelo de la sesión pasada, así como con el de su compañero."
   ]
  },
  {
   "cell_type": "code",
   "execution_count": 11,
   "metadata": {},
   "outputs": [],
   "source": [
    "from sklearn.ensemble import RandomForestClassifier"
   ]
  },
  {
   "cell_type": "code",
   "execution_count": 12,
   "metadata": {},
   "outputs": [
    {
     "name": "stderr",
     "output_type": "stream",
     "text": [
      "C:\\Users\\Victor\\Anaconda3\\lib\\site-packages\\sklearn\\ensemble\\forest.py:246: FutureWarning: The default value of n_estimators will change from 10 in version 0.20 to 100 in 0.22.\n",
      "  \"10 in version 0.20 to 100 in 0.22.\", FutureWarning)\n"
     ]
    }
   ],
   "source": [
    "model_random_f = RandomForestClassifier(random_state=23748).fit(read_X_training, read_y_training)"
   ]
  },
  {
   "cell_type": "code",
   "execution_count": 13,
   "metadata": {},
   "outputs": [
    {
     "name": "stdout",
     "output_type": "stream",
     "text": [
      "MSE: 2199296044.916236\n",
      "MAE: 20000.0\n",
      "R2: 0.6324952096476247\n"
     ]
    }
   ],
   "source": [
    "print(\"MSE:\", mean_squared_error(read_y_testing, model_random_f.predict(read_X_testing)))\n",
    "print(\"MAE:\", median_absolute_error(read_y_testing, model_random_f.predict(read_X_testing)))\n",
    "print(\"R2:\", r2_score(read_y_testing, model_random_f.predict(read_X_testing)))"
   ]
  },
  {
   "cell_type": "code",
   "execution_count": 14,
   "metadata": {},
   "outputs": [],
   "source": [
    "#help(RandomForestClassifier)"
   ]
  },
  {
   "cell_type": "markdown",
   "metadata": {},
   "source": [
    "* El desempeño no es mejor que el de los modelos anteriores. Siguen siendo mejor las metricas de mi compañera, luego las mias\n"
   ]
  },
  {
   "cell_type": "markdown",
   "metadata": {},
   "source": [
    "# Ejercicio 4: Reporte las métricas de desempeño\n",
    "\n",
    "* Para afinar el comportamiento de nuestro modelo, evalúe su desempeño los siguientes\n",
    "hiperparámetros:\n",
    "    * max_features : None , log2 , sqrt .\n",
    "    * n_estimators : Evaluar entre 20 y 1000 en pasos de 50.\n",
    "* Guarde la tasa de error en la exactitud medida con OOB.\n",
    "* Grafique el comportamiento.\n",
    "\n",
    "## NOTA: Tuve que cambiar el rango del estimador porque me sale error de memoria"
   ]
  },
  {
   "cell_type": "code",
   "execution_count": 15,
   "metadata": {},
   "outputs": [],
   "source": [
    "# generamos una serie de listas para guardar los sgtes valores\n",
    "tmp_oob_none, tmp_oob_sqrt,tmp_oob_log2 = [], [], []\n",
    "\n",
    "# repetimos midiendo accuracy en el test\n",
    "tmp_test_acc_none, tmp_test_acc_sqrt, tmp_test_acc_log = [], [], []\n",
    "\n",
    "#definimos rango de estimadores de 10 a 500 en pasos de 10\n",
    "n_estimators = range(10, 300, 20)"
   ]
  },
  {
   "cell_type": "code",
   "execution_count": 16,
   "metadata": {},
   "outputs": [
    {
     "name": "stderr",
     "output_type": "stream",
     "text": [
      "C:\\Users\\Victor\\Anaconda3\\lib\\site-packages\\sklearn\\ensemble\\forest.py:458: UserWarning: Some inputs do not have OOB scores. This probably means too few trees were used to compute any reliable oob estimates.\n",
      "  warn(\"Some inputs do not have OOB scores. \"\n",
      "C:\\Users\\Victor\\Anaconda3\\lib\\site-packages\\sklearn\\ensemble\\forest.py:463: RuntimeWarning: invalid value encountered in true_divide\n",
      "  predictions[k].sum(axis=1)[:, np.newaxis])\n",
      "C:\\Users\\Victor\\Anaconda3\\lib\\site-packages\\sklearn\\ensemble\\forest.py:458: UserWarning: Some inputs do not have OOB scores. This probably means too few trees were used to compute any reliable oob estimates.\n",
      "  warn(\"Some inputs do not have OOB scores. \"\n",
      "C:\\Users\\Victor\\Anaconda3\\lib\\site-packages\\sklearn\\ensemble\\forest.py:463: RuntimeWarning: invalid value encountered in true_divide\n",
      "  predictions[k].sum(axis=1)[:, np.newaxis])\n",
      "C:\\Users\\Victor\\Anaconda3\\lib\\site-packages\\sklearn\\ensemble\\forest.py:458: UserWarning: Some inputs do not have OOB scores. This probably means too few trees were used to compute any reliable oob estimates.\n",
      "  warn(\"Some inputs do not have OOB scores. \"\n",
      "C:\\Users\\Victor\\Anaconda3\\lib\\site-packages\\sklearn\\ensemble\\forest.py:463: RuntimeWarning: invalid value encountered in true_divide\n",
      "  predictions[k].sum(axis=1)[:, np.newaxis])\n"
     ]
    }
   ],
   "source": [
    "from sklearn.metrics import accuracy_score, roc_auc_score, classification_report\n",
    "\n",
    "# para cada rango de modelos estimados\n",
    "for i in n_estimators:\n",
    "    # Implementamos una variante con todos los atributos\n",
    "    voting_rf_none = RandomForestClassifier(n_estimators= i,max_features=None, oob_score=True,\n",
    "                                            random_state=23748, n_jobs=-1).fit(read_X_training, read_y_training)\n",
    "    # Implementamos una variante donde los atributos se escogen con sqrt\n",
    "    voting_rf_sqrt = RandomForestClassifier(n_estimators= i, max_features=\"sqrt\",\n",
    "                                            warm_start=True, oob_score=True,\n",
    "                                            random_state=23748,n_jobs=-1).fit(read_X_training, read_y_training)\n",
    "    # Implementamos una variante donde los atributos se escogen con log\n",
    "    voting_rf_log = RandomForestClassifier(n_estimators= i, max_features=\"log2\",\n",
    "                                            warm_start=True, oob_score=True, \n",
    "                                            random_state=23748,n_jobs=-1).fit(read_X_training, read_y_training)\n",
    "    # Estimamos el error en OOB\n",
    "    tmp_oob_none.append(1 - voting_rf_none.oob_score_)\n",
    "    tmp_oob_sqrt.append(1 - voting_rf_sqrt.oob_score_)\n",
    "    tmp_oob_log2.append(1 - voting_rf_log.oob_score_)\n",
    "    \n",
    "    # Estimamos el error en la exactitud\n",
    "    tmp_test_acc_none.append(1 - accuracy_score(read_y_testing, voting_rf_none.predict(read_X_testing)))\n",
    "    tmp_test_acc_sqrt.append(1 - accuracy_score(read_y_testing, voting_rf_sqrt.predict(read_X_testing)))\n",
    "    tmp_test_acc_log.append(1 - accuracy_score(read_y_testing, voting_rf_log.predict(read_X_testing)))"
   ]
  },
  {
   "cell_type": "code",
   "execution_count": 17,
   "metadata": {},
   "outputs": [
    {
     "data": {
      "text/plain": [
       "<matplotlib.legend.Legend at 0x5c0a358>"
      ]
     },
     "execution_count": 17,
     "metadata": {},
     "output_type": "execute_result"
    },
    {
     "data": {
      "text/plain": [
       "<Figure size 864x288 with 0 Axes>"
      ]
     },
     "metadata": {},
     "output_type": "display_data"
    },
    {
     "data": {
      "image/png": "[encoded data removed]",
      "text/plain": [
       "<Figure size 432x288 with 3 Axes>"
      ]
     },
     "metadata": {
      "needs_background": "light"
     },
     "output_type": "display_data"
    }
   ],
   "source": [
    "# Visualizamos\n",
    "# 10 300 20\n",
    "plt.figure(figsize=(12, 4));\n",
    "fig, axs = plt.subplots(1, 3, sharex=True, sharey=True);\n",
    "axs[0].plot(tmp_oob_log2, '.-', label='OOB error rate');\n",
    "axs[0].plot(tmp_test_acc_log, '.-', label='Test error rate');\n",
    "axs[0].set_title('Log2');\n",
    "\n",
    "axs[1].plot(tmp_oob_sqrt,'.-', label='OOB error rate');\n",
    "axs[1].plot(tmp_test_acc_sqrt,'.-', label='Test error rate');\n",
    "axs[1].set_title('Squared Root');\n",
    "\n",
    "axs[2].plot(tmp_oob_none, '.-', label='OOB error rate');\n",
    "axs[2].plot(tmp_test_acc_none,'.-', label='Test error rate');\n",
    "axs[2].set_title('None');\n",
    "\n",
    "plt.tight_layout();\n",
    "plt.legend()"
   ]
  },
  {
   "cell_type": "code",
   "execution_count": null,
   "metadata": {},
   "outputs": [],
   "source": []
  },
  {
   "cell_type": "code",
   "execution_count": null,
   "metadata": {},
   "outputs": [],
   "source": []
  }
 ],
 "metadata": {
  "kernelspec": {
   "display_name": "Python 3",
   "language": "python",
   "name": "python3"
  },
  "language_info": {
   "codemirror_mode": {
    "name": "ipython",
    "version": 3
   },
   "file_extension": ".py",
   "mimetype": "text/x-python",
   "name": "python",
   "nbconvert_exporter": "python",
   "pygments_lexer": "ipython3",
   "version": "3.7.4"
  }
 },
 "nbformat": 4,
 "nbformat_minor": 2
}
